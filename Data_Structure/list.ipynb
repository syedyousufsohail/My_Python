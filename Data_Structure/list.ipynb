{
 "cells": [
  {
   "cell_type": "markdown",
   "metadata": {},
   "source": [
    "Python has a great built-in list type named \"list\".\n",
    "it stores a sequence of objects in a defined order. They allow indexing or iterating through the list.\n",
    "lists are mutable which you can modify after creation.\n",
    "List literals are written within square brackets [ ]."
   ]
  },
  {
   "cell_type": "markdown",
   "metadata": {},
   "source": [
    "List Methods\n",
    "Here are some other common list methods.\n",
    "\n",
    "list.append(elem) -- adds a single element to the end of the list. Common error: does not return the new list, just modifies the original.\n",
    "list.insert(index, elem) -- inserts the element at the given index, shifting elements to the right.\n",
    "list.extend(list2) adds the elements in list2 to the end of the list. Using + or += on a list is similar to using extend().\n",
    "list.index(elem) -- searches for the given element from the start of the list and returns its index. Throws a ValueError if the element does not appear (use \"in\" to check without a ValueError).\n",
    "list.remove(elem) -- searches for the first instance of the given element and removes it (throws ValueError if not present)\n",
    "list.sort() -- sorts the list in place (does not return it). (The sorted() function shown later is preferred.)\n",
    "list.reverse() -- reverses the list in place (does not return it)\n",
    "list.pop(index) -- removes and returns the element at the given index. Returns the rightmost element if index is omitted (roughly the opposite of append())."
   ]
  },
  {
   "cell_type": "code",
   "execution_count": 23,
   "metadata": {},
   "outputs": [
    {
     "name": "stdout",
     "output_type": "stream",
     "text": [
      "['xxx', 'larry', 'curly', 'moe', 'shemp', 'yyy', 'zzz']\n",
      "2\n",
      "['xxx', 'moe', 'shemp', 'yyy', 'zzz']\n",
      "1\n"
     ]
    }
   ],
   "source": [
    "  list = ['larry', 'curly', 'moe'] #create a list\n",
    "  list.append('shemp')         ## append elem at end\n",
    "  list.insert(0, 'xxx')        ## insert elem at index 0\n",
    "  list.extend(['yyy', 'zzz'])  ## add list of elems at end\n",
    "  print (list)  ## ['xxx', 'larry', 'curly', 'moe', 'shemp', 'yyy', 'zzz']\n",
    "  print (list.index('curly'))    ## 2\n",
    "\n",
    "  list.remove('curly')         ## search and remove that element\n",
    "  list.pop(1)                  ## removes and returns 'larry'\n",
    "  print (list)                ## ['xxx', 'moe', 'shemp', 'yyy', 'zzz']\n",
    "  print(list.count(\"xxx\"))"
   ]
  },
  {
   "cell_type": "code",
   "execution_count": null,
   "metadata": {},
   "outputs": [],
   "source": [
    "\n"
   ]
  },
  {
   "cell_type": "markdown",
   "metadata": {},
   "source": [
    "Using Lists as Stacks:\n",
    "\n",
    "The list methods make it very easy to use a list as a stack, where the last element added is the first element retrieved (“last-in, first-out”). To add an item to the top of the stack, use append To retrieve an item from the top of t().he stack, use pop() without an explicit index. For example:\n"
   ]
  },
  {
   "cell_type": "code",
   "execution_count": 6,
   "metadata": {},
   "outputs": [
    {
     "name": "stdout",
     "output_type": "stream",
     "text": [
      "[3, 4, 5, 1]\n",
      "[3, 4, 5]\n"
     ]
    }
   ],
   "source": [
    "stack = [3, 4, 5]\n",
    "stack.append(1)\n",
    "print(stack)\n",
    "\n",
    "stack.pop()\n",
    "print(stack)"
   ]
  },
  {
   "cell_type": "code",
   "execution_count": null,
   "metadata": {},
   "outputs": [],
   "source": [
    "\n"
   ]
  },
  {
   "cell_type": "markdown",
   "metadata": {},
   "source": [
    "Using Lists as Queues:\n",
    "\n",
    "It is also possible to use a list as a queue, where the first element added is the first element retrieved (“first-in, first-out”); however, lists are not efficient for this purpose. While appends and pops from the end of list are fast, doing inserts or pops from the beginning of a list is slow (because all of the other elements have to be shifted by one).\n",
    "ex:"
   ]
  },
  {
   "cell_type": "code",
   "execution_count": 10,
   "metadata": {},
   "outputs": [
    {
     "name": "stdout",
     "output_type": "stream",
     "text": [
      "deque(['syed', 'Yusuf', 'suhail'])\n",
      "deque(['Yusuf', 'suhail'])\n"
     ]
    }
   ],
   "source": [
    "from collections import deque\n",
    "q=deque([\"syed\",\"Yusuf\"])\n",
    "q.append(\"suhail\")\n",
    "print(q)\n",
    "\n",
    "q.popleft()\n",
    "print(q)"
   ]
  },
  {
   "cell_type": "code",
   "execution_count": null,
   "metadata": {},
   "outputs": [],
   "source": [
    "\n"
   ]
  },
  {
   "cell_type": "markdown",
   "metadata": {},
   "source": [
    "List Comprehensions:\n",
    "\n",
    "List comprehensions provide a concise way to create lists. Common applications are to make new lists where each element is the result of some operations applied to each member of another sequence or iterable, or to create a subsequence of those elements that satisfy a certain condition.\n",
    "\n",
    "For example"
   ]
  },
  {
   "cell_type": "code",
   "execution_count": 12,
   "metadata": {},
   "outputs": [
    {
     "name": "stdout",
     "output_type": "stream",
     "text": [
      "[1, 1, 4, 27, 256, 3125, 46656, 823543, 16777216, 387420489]\n"
     ]
    }
   ],
   "source": [
    "#create a list of squares\n",
    "\n",
    "l = [x**x for x in range(10)]\n",
    "print(l)"
   ]
  },
  {
   "cell_type": "code",
   "execution_count": 22,
   "metadata": {},
   "outputs": [
    {
     "name": "stdout",
     "output_type": "stream",
     "text": [
      "[1, 3, 5, 7, 9, 99] [2, 4, 6, 8, 100]\n"
     ]
    }
   ],
   "source": [
    "# odd even \n",
    "\n",
    "li = [1,2,3,4,5,6,7,8,9,99,100]\n",
    "odd,even=[i for i in li if i%2 != 0 ],[i for i in li if i%2 == 0]\n",
    "print(odd,even)"
   ]
  },
  {
   "cell_type": "code",
   "execution_count": null,
   "metadata": {},
   "outputs": [],
   "source": [
    "\n"
   ]
  },
  {
   "cell_type": "raw",
   "metadata": {},
   "source": [
    "List\tSlices:\n",
    "The\tslice\toperator\talso\tworks\ton\tlists:\n",
    ">>>\tt\t=\t['a',\t'b',\t'c',\t'd',\t'e',\t'f'] \n",
    ">>>\tt[1:3] ['b',\t'c'] \n",
    ">>>\tt[:4] ['a',\t'b',\t'c',\t'd'] \n",
    ">>>\tt[3:] ['d',\t'e',\t'f']\n",
    "If\tyou\tomit\tthe\tfirst\tindex,\tthe\tslice\tstarts\tat\tthe\tbeginning.\tIf\tyou\tomit\tthe\tsecond,\tthe slice\tgoes\tto\tthe\tend.\tSo\tif\tyou\tomit\tboth,\tthe\tslice\tis\ta\tcopy\tof\tthe\twhole\tlist:\n",
    "\n",
    "[start.stop,step]\n",
    "\n",
    "\n",
    "ex:"
   ]
  },
  {
   "cell_type": "code",
   "execution_count": 29,
   "metadata": {},
   "outputs": [
    {
     "name": "stdout",
     "output_type": "stream",
     "text": [
      "[8, 7, 6, 9, 6, 5, 5, 1, 5, 9]\n"
     ]
    }
   ],
   "source": [
    "# reverse a list\n",
    "\n",
    "mylist =[9,5,1,5,5,6,9,6,7,8]\n",
    "print(mylist[::-1])"
   ]
  },
  {
   "cell_type": "code",
   "execution_count": null,
   "metadata": {},
   "outputs": [],
   "source": [
    "\n"
   ]
  },
  {
   "cell_type": "raw",
   "metadata": {},
   "source": [
    "Aliasing:\n",
    "    It\ta\trefers\tto\tan\tobject\tand\tyou\tassign\tb\t=\ta,\tthen\tboth\tvariables\trefer\tto\tthe\tsame\tobject:\n",
    ">>>\ta\t=\t[1,\t2,\t3] \n",
    ">>>\tb\t=\ta \n",
    ">>>\tb\tis\ta \n",
    "True\n"
   ]
  },
  {
   "cell_type": "code",
   "execution_count": null,
   "metadata": {},
   "outputs": [],
   "source": [
    "\n"
   ]
  },
  {
   "cell_type": "markdown",
   "metadata": {},
   "source": [
    "Traversing\ta\tList:\n",
    "The\tmost\tcommon\tway\tto\ttraverse\tthe\telements\tof\ta\tlist\tis\twith\ta\tfor\tloop.\tThe\tsyntax\tis the\tsame as\tfor\tstrings:\n",
    "\n",
    "ex:\n",
    "\n"
   ]
  },
  {
   "cell_type": "code",
   "execution_count": 31,
   "metadata": {},
   "outputs": [
    {
     "name": "stdout",
     "output_type": "stream",
     "text": [
      "Syed\n",
      "Yusuf\n",
      "Suhail\n"
     ]
    }
   ],
   "source": [
    "names =['Syed',\"Yusuf\",\"Suhail\"]\n",
    "for i in names:\n",
    "    print(i)"
   ]
  },
  {
   "cell_type": "code",
   "execution_count": null,
   "metadata": {},
   "outputs": [],
   "source": [
    "\n",
    "\n",
    "\n"
   ]
  },
  {
   "cell_type": "markdown",
   "metadata": {},
   "source": [
    "Other Examples of list\n"
   ]
  },
  {
   "cell_type": "code",
   "execution_count": 1,
   "metadata": {},
   "outputs": [
    {
     "name": "stdin",
     "output_type": "stream",
     "text": [
      " 1\n",
      " 5\n",
      " 6\n",
      " 4\n",
      " 56\n",
      " 45\n"
     ]
    },
    {
     "name": "stdout",
     "output_type": "stream",
     "text": [
      "[1, 5, 6, 4, 56, 45]\n"
     ]
    }
   ],
   "source": [
    "arr = []\n",
    "for i in range(6):\n",
    "    ele = int(input())\n",
    "    arr.append(ele)\n",
    "print(arr)\n"
   ]
  },
  {
   "cell_type": "code",
   "execution_count": null,
   "metadata": {},
   "outputs": [],
   "source": []
  },
  {
   "cell_type": "code",
   "execution_count": 2,
   "metadata": {},
   "outputs": [
    {
     "name": "stdout",
     "output_type": "stream",
     "text": [
      "enter elements\n"
     ]
    },
    {
     "name": "stdin",
     "output_type": "stream",
     "text": [
      " 1\n",
      " 2\n",
      " 3\n",
      " \n"
     ]
    },
    {
     "name": "stdout",
     "output_type": "stream",
     "text": [
      "['1', '2', '3']\n"
     ]
    }
   ],
   "source": [
    "arr=[]\n",
    "print(\"enter elements\")\n",
    "while True:\n",
    "    n = input()\n",
    "    if n == '': #or you can add 0 to stop\n",
    "        break\n",
    "    else:\n",
    "        arr.append(n)\n",
    "\n",
    "print(arr)"
   ]
  },
  {
   "cell_type": "code",
   "execution_count": null,
   "metadata": {},
   "outputs": [],
   "source": []
  },
  {
   "cell_type": "code",
   "execution_count": 3,
   "metadata": {},
   "outputs": [
    {
     "name": "stdout",
     "output_type": "stream",
     "text": [
      "Enter The Name Of Person 1\n"
     ]
    },
    {
     "name": "stdin",
     "output_type": "stream",
     "text": [
      " syed\n"
     ]
    },
    {
     "name": "stdout",
     "output_type": "stream",
     "text": [
      "Enter The Name Of Person 2\n"
     ]
    },
    {
     "name": "stdin",
     "output_type": "stream",
     "text": [
      " yusuf \n"
     ]
    },
    {
     "name": "stdout",
     "output_type": "stream",
     "text": [
      "Enter The Name Of Person 3\n"
     ]
    },
    {
     "name": "stdin",
     "output_type": "stream",
     "text": [
      " \n"
     ]
    },
    {
     "name": "stdout",
     "output_type": "stream",
     "text": [
      "the names are\n",
      " syed\n",
      " yusuf \n"
     ]
    }
   ],
   "source": [
    "name = []\n",
    "while True:\n",
    "    print(\"Enter The Name Of Person \" + str(len(name) + 1))\n",
    "    n = input()      \n",
    "    if n == '':\n",
    "        break\n",
    "    name = name + [n] # list concatenation    \n",
    "print(\"the names are\")        \n",
    "for i in name:\n",
    "    print(\"\",i)"
   ]
  },
  {
   "cell_type": "code",
   "execution_count": null,
   "metadata": {},
   "outputs": [],
   "source": []
  },
  {
   "cell_type": "code",
   "execution_count": 16,
   "metadata": {},
   "outputs": [
    {
     "name": "stdout",
     "output_type": "stream",
     "text": [
      "[22, 44]\n",
      "[11, 33, 55]\n"
     ]
    }
   ],
   "source": [
    "list1 = [11, 22, 33, 44, 55]\n",
    "\n",
    "# declare listOdd - to store odd numbers\n",
    "# declare listEven - to store even numbers\n",
    "listOdd = []\n",
    "listEven = []\n",
    "\n",
    "# check and append odd numbers in listOdd\n",
    "# and even numbers in listEven\n",
    "for num in list1:\n",
    "\tif num%2 == 0:\n",
    "\t\tlistEven.append(num)\n",
    "\telse:\n",
    "\t\tlistOdd.append(num) \n",
    "print(listEven)      \n",
    "print(listOdd)  "
   ]
  },
  {
   "cell_type": "code",
   "execution_count": null,
   "metadata": {},
   "outputs": [],
   "source": []
  }
 ],
 "metadata": {
  "kernelspec": {
   "display_name": "Python 3",
   "language": "python",
   "name": "python3"
  },
  "language_info": {
   "codemirror_mode": {
    "name": "ipython",
    "version": 3
   },
   "file_extension": ".py",
   "mimetype": "text/x-python",
   "name": "python",
   "nbconvert_exporter": "python",
   "pygments_lexer": "ipython3",
   "version": "3.7.1"
  }
 },
 "nbformat": 4,
 "nbformat_minor": 2
}
